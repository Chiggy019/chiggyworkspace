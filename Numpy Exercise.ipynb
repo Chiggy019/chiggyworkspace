{
 "cells": [
  {
   "cell_type": "code",
   "execution_count": 11,
   "metadata": {},
   "outputs": [
    {
     "name": "stdout",
     "output_type": "stream",
     "text": [
      "[[0. 0. 0.]\n",
      " [0. 0. 0.]\n",
      " [0. 0. 0.]] \n",
      "\n",
      "[[33 33 33 33]\n",
      " [33 33 33 33]\n",
      " [33 33 33 33]]\n",
      "[[1. 1. 1.]\n",
      " [1. 1. 1.]]\n"
     ]
    }
   ],
   "source": [
    "#empty and full array ones array\n",
    "import numpy as np\n",
    "arr1 = np.empty([3,3])\n",
    "print(arr1,\"\\n\")\n",
    "arr2 = np.full((3,4),33)\n",
    "print(arr2)\n",
    "arr3 = np.ones((2,3))\n",
    "print(arr3)"
   ]
  },
  {
   "cell_type": "code",
   "execution_count": 19,
   "metadata": {},
   "outputs": [
    {
     "name": "stdout",
     "output_type": "stream",
     "text": [
      "[[ 1  2  3  4  5]\n",
      " [ 6  7  8  9 10]\n",
      " [11 12 13 14 15]\n",
      " [16 17 18 19 20]]\n",
      "\n",
      " List of Array elements : [[1, 2, 3, 4, 5], [6, 7, 8, 9, 10], [11, 12, 13, 14, 15], [16, 17, 18, 19, 20]]\n",
      "\n",
      "[1,2,3,4,5] in array : True\n",
      "\n",
      "[6,7,8,9,10] in array : True\n",
      "\n",
      "[21,22,34,35] in array : False\n"
     ]
    }
   ],
   "source": [
    "#checking rows in an array\n",
    "arr = np.arange(1,21).reshape(4,5)\n",
    "print(arr)\n",
    "print(\"\\n List of Array elements :\",arr.tolist())  #tolist converts the array into a list of each elemnts as rows\n",
    "print(\"\\n[1,2,3,4,5] in array :\",[1,2,3,4,5] in arr.tolist())\n",
    "print(\"\\n[6,7,8,9,10] in array :\",[6,7,8,9,10] in arr.tolist())\n",
    "print(\"\\n[21,22,34,35] in array :\",[21,22,34,35] in arr.tolist())"
   ]
  },
  {
   "cell_type": "code",
   "execution_count": 107,
   "metadata": {},
   "outputs": [
    {
     "name": "stdout",
     "output_type": "stream",
     "text": [
      "[[ 1.  2.  3.]\n",
      " [ 4.  5.  6.]\n",
      " [ 7. nan nan]]\n",
      "[[1. 2. 3.]\n",
      " [4. 5. 6.]]\n"
     ]
    }
   ],
   "source": [
    "#removing rows containing nan values \n",
    "arr = np.array([[1,2,3],[4,5,6],[7,np.nan,np.nan]])\n",
    "print(arr)\n",
    "print(arr[~np.isnan(arr).any(axis=1)])"
   ]
  },
  {
   "cell_type": "code",
   "execution_count": 42,
   "metadata": {},
   "outputs": [
    {
     "name": "stdout",
     "output_type": "stream",
     "text": [
      "[[[0 1 2]\n",
      "  [3 4 5]\n",
      "  [6 7 8]]]\n",
      "arrar shape :  (1, 3, 3)\n",
      "\n",
      " [[0 1 2]\n",
      " [3 4 5]\n",
      " [6 7 8]]\n",
      "\n",
      "Shape of array now (3, 3)\n"
     ]
    }
   ],
   "source": [
    "#remove single dimenssion from an array\n",
    "arr = np.arange(9).reshape(1,3,3)\n",
    "print(arr)\n",
    "print(\"arrar shape : \",arr.shape)\n",
    "arr = np.squeeze(arr) #if there is single dimenssion in an multidimenssional array it squeezes out it to shorten dimession\n",
    "print(\"\\n\",arr)\n",
    "print(\"\\nShape of array now\",arr.shape)"
   ]
  },
  {
   "cell_type": "code",
   "execution_count": 50,
   "metadata": {},
   "outputs": [
    {
     "name": "stdout",
     "output_type": "stream",
     "text": [
      "[[2 8 9 4]\n",
      " [9 4 9 4]\n",
      " [4 5 9 7]\n",
      " [2 9 4 3]] \n",
      "\n",
      "array([[2, 8, 9, 4],\n",
      "       [9, 4, 9, 4],\n",
      "       [4, 5, 9, 7],\n",
      "       [2, 9, 4, 3]])\n",
      "4\n"
     ]
    }
   ],
   "source": [
    "arr = np.array([[2,8,9,4], \n",
    "                   [9,4,9,4],\n",
    "                   [4,5,9,7],\n",
    "                   [2,9,4,3]])\n",
    "print(arr,\"\\n\")\n",
    "print(repr(arr))\n",
    "out=repr(arr).count(\"9, 4\") #\" \" in this the svlue string must match the pattern in the repr(arr)\n",
    "print(out)"
   ]
  },
  {
   "cell_type": "code",
   "execution_count": 63,
   "metadata": {},
   "outputs": [
    {
     "name": "stdout",
     "output_type": "stream",
     "text": [
      "[0 5 4 3 1 1]\n",
      "[1 2 3 4 5]\n",
      "\n",
      "Values occuring most : \n",
      "1\n",
      "\n",
      "Frequency of occurance : \n",
      "5\n",
      "\n",
      " [1 2 3 2 2 3 1 1 1 2 1 4 5 3 2]\n",
      "1\n",
      "2\n"
     ]
    }
   ],
   "source": [
    "arr = np.array([1,2,3,2,2,3,1,1,1,1,4,5,3,2])\n",
    "print(np.bincount(arr))\n",
    "print(np.unique(arr))\n",
    "print(\"\\nValues occuring most : \")\n",
    "print(np.bincount(arr).argmax())\n",
    "print(\"\\nFrequency of occurance : \")\n",
    "print(np.bincount(arr).max())\n",
    "arr2 = np.array([1,2,3,2,2,3,1,1,1,2,1,4,5,3,2,])\n",
    "print(\"\\n\",arr2)\n",
    "y=np.bincount(arr2)\n",
    "m = y.max()\n",
    "a=0\n",
    "for i in y:\n",
    "    if(i == m):\n",
    "        print(a)\n",
    "    a+=1"
   ]
  },
  {
   "cell_type": "code",
   "execution_count": 74,
   "metadata": {},
   "outputs": [
    {
     "name": "stdout",
     "output_type": "stream",
     "text": [
      "[1 2] \n",
      " [[ 0  1]\n",
      " [ 2  3]\n",
      " [ 4  5]\n",
      " [ 6  7]\n",
      " [ 8  9]\n",
      " [10 11]\n",
      " [12 13]\n",
      " [14 15]\n",
      " [16 17]\n",
      " [18 19]]\n",
      "1 , 0\n",
      "2 , 1\n",
      "1 , 2\n",
      "2 , 3\n",
      "1 , 4\n",
      "2 , 5\n",
      "1 , 6\n",
      "2 , 7\n",
      "1 , 8\n",
      "2 , 9\n",
      "1 , 10\n",
      "2 , 11\n",
      "1 , 12\n",
      "2 , 13\n",
      "1 , 14\n",
      "2 , 15\n",
      "1 , 16\n",
      "2 , 17\n",
      "1 , 18\n",
      "2 , 19\n"
     ]
    }
   ],
   "source": [
    "ar1 = np.array([1,2])\n",
    "ar2 = np.arange(20).reshape(10,2)\n",
    "print(ar1,\"\\n\",ar2)\n",
    "for x,y in np.nditer([ar1,ar2]):\n",
    "    print(\"%d , %d\"%(x,y))"
   ]
  },
  {
   "cell_type": "code",
   "execution_count": 93,
   "metadata": {},
   "outputs": [
    {
     "name": "stdout",
     "output_type": "stream",
     "text": [
      "[[[1 2]\n",
      "  [1 2]]\n",
      "\n",
      " [[3 3]\n",
      "  [4 4]]]\n",
      "[[[1 3]\n",
      "  [1 4]]\n",
      "\n",
      " [[2 3]\n",
      "  [2 4]]]\n",
      "[[1 3]\n",
      " [1 4]\n",
      " [2 3]\n",
      " [2 4]]\n"
     ]
    }
   ],
   "source": [
    "arr1 = np.array([1,2])\n",
    "arr2 = np.array([3,4])\n",
    "print(np.array(np.meshgrid(arr1,arr2)))\n",
    "print(np.array(np.meshgrid(arr1,arr2)).T)\n",
    "print(np.array(np.meshgrid(arr1,arr2)).T.reshape(-1,2))"
   ]
  },
  {
   "cell_type": "code",
   "execution_count": 97,
   "metadata": {},
   "outputs": [
    {
     "name": "stdout",
     "output_type": "stream",
     "text": [
      "[[9. 9. 9. 9. 9.]\n",
      " [9. 1. 1. 1. 9.]\n",
      " [9. 1. 1. 1. 9.]\n",
      " [9. 1. 1. 1. 9.]\n",
      " [9. 9. 9. 9. 9.]]\n"
     ]
    }
   ],
   "source": [
    "#adding a border to an array\n",
    "arr = np.ones((3,3))\n",
    "print(np.pad(arr,pad_width=1,mode='constant',constant_values =9))"
   ]
  },
  {
   "cell_type": "code",
   "execution_count": 105,
   "metadata": {},
   "outputs": [
    {
     "name": "stdout",
     "output_type": "stream",
     "text": [
      "[ True  True  True]\n",
      "True\n",
      "[False  True False False]\n",
      "[False  True False  True]\n",
      "[ True False  True False]\n"
     ]
    }
   ],
   "source": [
    "#comparing two array\n",
    "arr1 = np.array([1,2,3])\n",
    "arr2 = np.array([1,2,3])\n",
    "comparison = arr1 == arr2\n",
    "print(comparison)\n",
    "eq = comparison.all()\n",
    "print(eq)\n",
    "a = np.array([101, 99, 87,34])\n",
    "b = np.array([897, 97, 111,34])\n",
    "print(np.greater(a,b))\n",
    "print(np.greater_equal(a,b))\n",
    "print(np.less(a,b))"
   ]
  },
  {
   "cell_type": "code",
   "execution_count": 111,
   "metadata": {},
   "outputs": [
    {
     "name": "stdout",
     "output_type": "stream",
     "text": [
      "[[ 0  1  2  3]\n",
      " [ 4  5  6  7]\n",
      " [ 8  9 10 11]]\n",
      "True\n",
      "True\n"
     ]
    }
   ],
   "source": [
    "#using in keyword\n",
    "arr= np.arange(12).reshape(3,4)\n",
    "print(arr)\n",
    "print(2 in arr)\n",
    "print([4,5,6,7] in arr.tolist())"
   ]
  },
  {
   "cell_type": "code",
   "execution_count": 119,
   "metadata": {},
   "outputs": [
    {
     "name": "stdout",
     "output_type": "stream",
     "text": [
      "[[[ 0  1  2  3]\n",
      "  [ 4  5  6  7]\n",
      "  [ 8  9 10 11]\n",
      "  [12 13 14 15]]\n",
      "\n",
      " [[16 17 18 19]\n",
      "  [20 21 22 23]\n",
      "  [24 25 26 27]\n",
      "  [28 29 30 31]]\n",
      "\n",
      " [[32 33 34 35]\n",
      "  [36 37 38 39]\n",
      "  [40 41 42 43]\n",
      "  [44 45 46 47]]]\n",
      "[[ 0  5 10 15]\n",
      " [16 21 26 31]\n",
      " [32 37 42 47]]\n"
     ]
    }
   ],
   "source": [
    "#print diagonals of arrays\n",
    "arr = np.arange(3*4*4).reshape(3,4,4)\n",
    "print(arr)\n",
    "print(np.diagonal(arr,axis1=1,axis2=2))"
   ]
  },
  {
   "cell_type": "code",
   "execution_count": 125,
   "metadata": {},
   "outputs": [
    {
     "name": "stdout",
     "output_type": "stream",
     "text": [
      "[[ 0  1  2  3  4  5]\n",
      " [ 6  7  8  9 10 11]\n",
      " [12 13 14 15 16 17]]\n",
      "[ 0  1  2  3  4  5  6  7  8  9 10 11 12 13 14 15 16 17]\n",
      "[ 0  6 12  1  7 13  2  8 14  3  9 15  4 10 16  5 11 17]\n",
      "[ 0  1  2  3  4  5  6  7  8  9 10 11 12 13 14 15 16 17]\n"
     ]
    }
   ],
   "source": [
    "#flatten an array\n",
    "arr= np.arange(3*6).reshape(3,6)\n",
    "print(arr)\n",
    "print(arr.flatten(order='C'))\n",
    "print(arr.flatten(order='F'))\n",
    "print(arr.flatten(order='A'))"
   ]
  },
  {
   "cell_type": "code",
   "execution_count": 132,
   "metadata": {},
   "outputs": [
    {
     "name": "stdout",
     "output_type": "stream",
     "text": [
      "Enter the number to fing Fibionacci series for : 10\n",
      "Fibonnaci series of first 10 numbers is :[ 1.  1.  2.  3.  5.  8. 13. 21. 34. 55.]\n"
     ]
    }
   ],
   "source": [
    "#Fibonacci series \n",
    "num = int(input(\"Enter the number to fing Fibionacci series for : \"))\n",
    "a =np.arange(1,(num+1))\n",
    "s = np.sqrt(5)\n",
    "alpha = (1+np.sqrt(5))/2\n",
    "beta = (1-np.sqrt(5))/2\n",
    "Fn = np.rint(((alpha**a)-(beta**a))/s)\n",
    "print(\"Fibonnaci series of first {} numbers is :{}\".format(len(a),Fn))"
   ]
  },
  {
   "cell_type": "code",
   "execution_count": 137,
   "metadata": {},
   "outputs": [
    {
     "name": "stdout",
     "output_type": "stream",
     "text": [
      "8\n",
      "[4 4]\n"
     ]
    }
   ],
   "source": [
    "arr = np.array([[1,2,0,3,4],[23,0,45,6,7]])\n",
    "print(np.count_nonzero(arr)) #non zero elements in total\n",
    "print(np.count_nonzero(arr,axis=1)) #non zero elements per row"
   ]
  },
  {
   "cell_type": "code",
   "execution_count": 141,
   "metadata": {},
   "outputs": [
    {
     "name": "stdout",
     "output_type": "stream",
     "text": [
      "[ 1  5  7  0  6  2  9  0 10]\n",
      "[ 1  5  7  0  6  2  9  0 10  0  0]\n",
      "[ 0  0  0  0  1  5  7  0  6  2  9  0 10]\n"
     ]
    }
   ],
   "source": [
    "#removing leading and tailing zeros \n",
    "arr = np.array([0, 0, 0, 0, 1, 5, 7, 0, 6, 2, 9, 0, 10, 0, 0])\n",
    "print(np.trim_zeros(arr))\n",
    "print(np.trim_zeros(arr,'f'))\n",
    "print(np.trim_zeros(arr,'b'))"
   ]
  },
  {
   "cell_type": "code",
   "execution_count": 144,
   "metadata": {},
   "outputs": [
    {
     "name": "stdout",
     "output_type": "stream",
     "text": [
      "[6 5 4 3 2 1]\n",
      "[6 5 4 3 2 1]\n"
     ]
    }
   ],
   "source": [
    "arr= np.array([1,2,3,4,5,6])\n",
    "print(arr[::-1])\n",
    "print(np.flipud(arr))"
   ]
  },
  {
   "cell_type": "code",
   "execution_count": 146,
   "metadata": {},
   "outputs": [
    {
     "name": "stdout",
     "output_type": "stream",
     "text": [
      "[[39  4 35 44 11]\n",
      " [ 2 27 26 10 43]\n",
      " [ 2 42  5 45  6]\n",
      " [28 10 12 23  5]]\n",
      "\n",
      " [[39  0 35 44 11]\n",
      " [ 0 27 26 10 43]\n",
      " [ 0 42  0 45  0]\n",
      " [28 10 12 23  0]]\n"
     ]
    }
   ],
   "source": [
    "arr = np.random.randint(1,50,size=(4,5))\n",
    "print(arr)\n",
    "arr[arr<10] = 0\n",
    "print(\"\\n\",arr)"
   ]
  },
  {
   "cell_type": "code",
   "execution_count": 148,
   "metadata": {},
   "outputs": [
    {
     "name": "stdout",
     "output_type": "stream",
     "text": [
      "[[ 6 33 34 35  5]\n",
      " [18 37 14 35 19]\n",
      " [ 2 33  3 29  2]\n",
      " [38 46 16  8  4]]\n",
      "[[ 0 33 34 35  0]\n",
      " [18 37 14 35 19]\n",
      " [ 0 33  0 29  0]\n",
      " [38 46 16  0  0]]\n"
     ]
    }
   ],
   "source": [
    "arr = np.random.randint(1,50,size=(4,5))\n",
    "print(arr)\n",
    "qa = np.where(arr<10,0,arr)\n",
    "print(qa)"
   ]
  },
  {
   "cell_type": "code",
   "execution_count": 149,
   "metadata": {},
   "outputs": [],
   "source": [
    "arr = np.arr = np.random.randint(1,10,size=(4,5))"
   ]
  },
  {
   "cell_type": "code",
   "execution_count": 163,
   "metadata": {},
   "outputs": [
    {
     "name": "stdout",
     "output_type": "stream",
     "text": [
      "[[3 2 5 3 2]\n",
      " [2 3 4 5 1]\n",
      " [4 7 6 7 6]\n",
      " [1 5 6 9 3]]\n",
      "Indices with values <5 \n",
      "\n",
      "0 , 0\n",
      "0 , 1\n",
      "0 , 3\n",
      "0 , 4\n",
      "1 , 0\n",
      "1 , 1\n",
      "1 , 2\n",
      "1 , 4\n",
      "2 , 0\n",
      "3 , 0\n",
      "3 , 4\n",
      "[3 2 3 2 2 3 4 1 4 1 3]\n"
     ]
    }
   ],
   "source": [
    "print(arr)\n",
    "q = np.where(arr<5)\n",
    "print(\"Indices with values <5 \\n\")\n",
    "for x,y in np.nditer([q[0],q[1]]):\n",
    "    print(\"%d , %d\"%(x,y))\n",
    "print(arr[q])"
   ]
  },
  {
   "cell_type": "code",
   "execution_count": 178,
   "metadata": {},
   "outputs": [
    {
     "name": "stdout",
     "output_type": "stream",
     "text": [
      "[[1.3 2.5 3.6 nan]\n",
      " [2.6 3.3 nan 5.5]\n",
      " [2.1 3.2 5.4 6.5]]\n",
      "[2.  3.  4.5 6. ]\n",
      "(array([0, 1]), array([3, 2]))\n",
      "\n",
      " [[1.3 2.5 3.6 6. ]\n",
      " [2.6 3.3 4.5 5.5]\n",
      " [2.1 3.2 5.4 6.5]]\n"
     ]
    }
   ],
   "source": [
    "arr = np.array([[1.3, 2.5, 3.6, np.nan], \n",
    "                      [2.6, 3.3, np.nan, 5.5],\n",
    "                      [2.1, 3.2, 5.4, 6.5]])\n",
    "print(arr)\n",
    "colmean = np.nanmean(arr,axis = 0)\n",
    "print(colmean)\n",
    "ind = np.where(np.isnan(arr))\n",
    "print(ind)\n",
    "arr[ind]=np.take(colmean,ind[1])\n",
    "print(\"\\n\",arr)"
   ]
  },
  {
   "cell_type": "code",
   "execution_count": 183,
   "metadata": {},
   "outputs": [
    {
     "name": "stdout",
     "output_type": "stream",
     "text": [
      "[[1.3 2.5 3.6 nan]\n",
      " [2.6 3.3 nan 5.5]\n",
      " [2.1 3.2 5.4 6.5]]\n",
      "\n",
      " [[1.3 2.5 3.6 --]\n",
      " [2.6 3.3 -- 5.5]\n",
      " [2.1 3.2 5.4 6.5]]\n",
      "\n",
      " [2.0 3.0 4.5 6.0]\n",
      "[[1.3 2.5 3.6 6. ]\n",
      " [2.6 3.3 4.5 5.5]\n",
      " [2.1 3.2 5.4 6.5]]\n"
     ]
    }
   ],
   "source": [
    "arr = np.array([[1.3, 2.5, 3.6, np.nan], \n",
    "                      [2.6, 3.3, np.nan, 5.5],\n",
    "                      [2.1, 3.2, 5.4, 6.5]])\n",
    "print(arr)\n",
    "print(\"\\n\",np.ma.array(arr,mask=np.isnan(arr)))\n",
    "print(\"\\n\",np.ma.array(arr,mask=np.isnan(arr)).mean(axis=0))\n",
    "re = np.where(np.isnan(arr),np.ma.array(arr,mask=np.isnan(arr)).mean(axis=0),arr)\n",
    "print(re)"
   ]
  },
  {
   "cell_type": "code",
   "execution_count": 186,
   "metadata": {},
   "outputs": [
    {
     "name": "stdout",
     "output_type": "stream",
     "text": [
      "[ 1  2 24 12  5]\n",
      "[[ 1  2  3  4]\n",
      " [24  6 45  8]]\n",
      "[[[11 25  7]\n",
      "  [ 1 45 55]\n",
      "  [20 45  7]]\n",
      "\n",
      " [[50 15  8]\n",
      "  [70 85 10]\n",
      "  [10 22 33]]\n",
      "\n",
      " [[19 69 36]\n",
      "  [ 6  5 24]\n",
      "  [ 4 20  9]]]\n"
     ]
    }
   ],
   "source": [
    "#change values at a certain index\n",
    "arr1 = np.array([1,23,34,12,5])\n",
    "arr2 = np.array([2,24,45])\n",
    "arr1.put([1,2],arr2)\n",
    "print(arr1)\n",
    "arr3 = np.array([[1,2,3,4],[5,6,7,8]])\n",
    "arr3.put([1,4,6],arr2)\n",
    "print(arr3)\n",
    "a1 = np.array([[[11, 25, 7], [30, 45, 55], [20, 45, 7]],\n",
    "               [[50, 65, 8], [70, 85, 10], [11, 22, 33]],\n",
    "               [[19, 69, 36], [1, 5, 24], [4, 20, 9]]])\n",
    "a2 = np.array([[1, 15, 10],\n",
    "               [6, 40, 50],\n",
    "               [11, 5, 10]])\n",
    "a1.put([3,10,15,21],a2)\n",
    "print(a1)"
   ]
  },
  {
   "cell_type": "code",
   "execution_count": 187,
   "metadata": {},
   "outputs": [
    {
     "name": "stdout",
     "output_type": "stream",
     "text": [
      "Array 1 :\n",
      "[[11 10 22]\n",
      " [14 58 88]]\n",
      "[[11  1 22]\n",
      " [14 58 15]]\n"
     ]
    }
   ],
   "source": [
    "a1 = np.array([[11, 10, 22],   \n",
    "               [14, 58, 88]])\n",
    "  \n",
    "print(\"Array 1 :\")\n",
    "print(a1)\n",
    "  \n",
    "a2 = np.array([[1, 15, 6],\n",
    "               [40, 50, 70]])\n",
    "a1.put([1,20],a2,mode = 'clip') #if limit is out of bounds clip it to last element\n",
    "print(a1)"
   ]
  },
  {
   "cell_type": "code",
   "execution_count": 192,
   "metadata": {},
   "outputs": [
    {
     "name": "stdout",
     "output_type": "stream",
     "text": [
      "[[0 2]\n",
      " [0 3]\n",
      " [1 1]\n",
      " [1 4]\n",
      " [2 0]\n",
      " [2 2]\n",
      " [2 5]]\n"
     ]
    }
   ],
   "source": [
    "arr = np.array([[1,2,0,0,4,5],[4,0,7,8,0,9],[0,9,0,7,8,0]])\n",
    "print(np.argwhere(arr == 0))"
   ]
  },
  {
   "cell_type": "code",
   "execution_count": 194,
   "metadata": {},
   "outputs": [
    {
     "name": "stdout",
     "output_type": "stream",
     "text": [
      "[ 10  16  16  52  54  62 453]\n",
      "[0 3 4 1 5 2 6]\n"
     ]
    }
   ],
   "source": [
    "arr = np.array([10, 52, 62, 16, 16, 54, 453])\n",
    "a = np.sort(arr)\n",
    "print(a)\n",
    "ab = np.argsort(arr)\n",
    "print(ab)"
   ]
  },
  {
   "cell_type": "code",
   "execution_count": 196,
   "metadata": {},
   "outputs": [
    {
     "name": "stdout",
     "output_type": "stream",
     "text": [
      "Enter the kth for smallest value2\n",
      "16\n"
     ]
    }
   ],
   "source": [
    "sm = int(input(\"Enter the kth for smallest value\"))\n",
    "sma = a[sm]\n",
    "print(sma)"
   ]
  },
  {
   "cell_type": "code",
   "execution_count": 198,
   "metadata": {},
   "outputs": [
    {
     "name": "stdout",
     "output_type": "stream",
     "text": [
      "['Akash' 'Rohit' 'Ayush' 'Dhruv' 'Radhika']\n",
      "['AkashAkashAkash' 'RohitRohitRohit' 'AyushAyushAyush' 'DhruvDhruvDhruv'\n",
      " 'RadhikaRadhikaRadhika']\n"
     ]
    }
   ],
   "source": [
    "arr= np.array(['Akash', 'Rohit', 'Ayush', \n",
    "                'Dhruv', 'Radhika'],dtype = np.str)\n",
    "narr = np.char.multiply(arr,3)\n",
    "print(arr)\n",
    "print(narr)"
   ]
  },
  {
   "cell_type": "code",
   "execution_count": 199,
   "metadata": {},
   "outputs": [
    {
     "name": "stdout",
     "output_type": "stream",
     "text": [
      "[list(['Hello', 'Hii', 'Hey'])]\n"
     ]
    }
   ],
   "source": [
    "arr = np.array(['Hello Hii Hey'],dtype=np.str)\n",
    "n = np.char.split(arr)\n",
    "print(n)"
   ]
  },
  {
   "cell_type": "code",
   "execution_count": 200,
   "metadata": {},
   "outputs": [
    {
     "name": "stdout",
     "output_type": "stream",
     "text": [
      "['H e l l o' 'H e y' 'H i i']\n"
     ]
    }
   ],
   "source": [
    "arr = np.array(['Hello','Hey','Hii'],dtype = np.str)\n",
    "n = np.char.join(\" \",arr)\n",
    "print(n)"
   ]
  },
  {
   "cell_type": "code",
   "execution_count": 201,
   "metadata": {},
   "outputs": [
    {
     "name": "stdout",
     "output_type": "stream",
     "text": [
      "[5, 3, 3]\n"
     ]
    }
   ],
   "source": [
    "a = [len(i) for i in arr]\n",
    "print(a)"
   ]
  },
  {
   "cell_type": "code",
   "execution_count": 202,
   "metadata": {},
   "outputs": [
    {
     "name": "stdout",
     "output_type": "stream",
     "text": [
      "['hELLO' 'hEY' 'hII']\n"
     ]
    }
   ],
   "source": [
    "print(np.char.swapcase(arr))"
   ]
  },
  {
   "cell_type": "code",
   "execution_count": 203,
   "metadata": {},
   "outputs": [
    {
     "name": "stdout",
     "output_type": "stream",
     "text": [
      "['H!e!l!l!o' 'H@e@y' 'H$i$i']\n"
     ]
    }
   ],
   "source": [
    "sep = ['!','@','$']\n",
    "n = np.char.join(sep,arr)\n",
    "print(n)"
   ]
  },
  {
   "cell_type": "code",
   "execution_count": 206,
   "metadata": {},
   "outputs": [
    {
     "name": "stdout",
     "output_type": "stream",
     "text": [
      "[1 1 1]\n"
     ]
    }
   ],
   "source": [
    "in_arr = np.array(['Sayantan', '  Sayan  ', 'Sayansubhra'])\n",
    "n = np.char.count(in_arr,sub='Sa')\n",
    "print(n)"
   ]
  },
  {
   "cell_type": "code",
   "execution_count": 207,
   "metadata": {},
   "outputs": [
    {
     "name": "stdout",
     "output_type": "stream",
     "text": [
      "[ True False False]\n"
     ]
    }
   ],
   "source": [
    "print(np.char.endswith(in_arr,\"an\"))"
   ]
  },
  {
   "cell_type": "code",
   "execution_count": null,
   "metadata": {},
   "outputs": [],
   "source": [
    "salesRecord = []\n",
    "salesRecord_rows, salesRecord_cols  = map(int, raw_input().split())"
   ]
  }
 ],
 "metadata": {
  "kernelspec": {
   "display_name": "Python 3",
   "language": "python",
   "name": "python3"
  },
  "language_info": {
   "codemirror_mode": {
    "name": "ipython",
    "version": 3
   },
   "file_extension": ".py",
   "mimetype": "text/x-python",
   "name": "python",
   "nbconvert_exporter": "python",
   "pygments_lexer": "ipython3",
   "version": "3.8.5"
  }
 },
 "nbformat": 4,
 "nbformat_minor": 4
}
